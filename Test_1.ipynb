{
  "nbformat": 4,
  "nbformat_minor": 0,
  "metadata": {
    "colab": {
      "provenance": [],
      "collapsed_sections": [],
      "authorship_tag": "ABX9TyMTOGG4D1OG6JFTcGqnapbz",
      "include_colab_link": true
    },
    "kernelspec": {
      "name": "python3",
      "display_name": "Python 3"
    },
    "language_info": {
      "name": "python"
    }
  },
  "cells": [
    {
      "cell_type": "markdown",
      "metadata": {
        "id": "view-in-github",
        "colab_type": "text"
      },
      "source": [
        "<a href=\"https://colab.research.google.com/github/manishkolla/Data-Structures/blob/main/Test_1.ipynb\" target=\"_parent\"><img src=\"https://colab.research.google.com/assets/colab-badge.svg\" alt=\"Open In Colab\"/></a>"
      ]
    },
    {
      "cell_type": "markdown",
      "source": [
        "##Q-1"
      ],
      "metadata": {
        "id": "oM66JBqg6XUn"
      }
    },
    {
      "cell_type": "code",
      "execution_count": null,
      "metadata": {
        "colab": {
          "base_uri": "https://localhost:8080/"
        },
        "id": "CpXxUj1CBZ_q",
        "outputId": "1871df86-f735-4218-b118-d3e8ab8294f9"
      },
      "outputs": [
        {
          "output_type": "stream",
          "name": "stdout",
          "text": [
            "Enter stentence to count words frequency: hi hi hi one two two ...\n",
            "{'hi': 3, 'one': 1, '...': 1, 'two': 2}\n"
          ]
        }
      ],
      "source": [
        "def word_frequency(str):\n",
        "  '''\n",
        "  taking a sentence as input from the user and splitting it and appending them to list and then looping though the list to get the count\n",
        "  or frequency of each word in that list and appendind all the data into a dictionary\n",
        "  '''\n",
        "  words=str.split()\n",
        "  words_list=list(set(words))\n",
        "  count=[]\n",
        "  for i in range(len(words_list)):\n",
        "    count.append(words.count(words_list[i]))\n",
        "    words_dict=dict(zip(words_list,count))\n",
        "  print (words_dict)\n",
        "sentence=input('Enter stentence to count words frequency: ')\n",
        "word_frequency(sentence)"
      ]
    },
    {
      "cell_type": "markdown",
      "source": [
        "###Q2"
      ],
      "metadata": {
        "id": "e3mdStnQGhkk"
      }
    },
    {
      "cell_type": "code",
      "source": [
        "import numpy as np\n",
        "class Matrix_add_multiple():\n",
        "#Taking the number of columns and rows as input from the user and looping through the numbers and taking array numbers as input and appending\n",
        "#them to a list of lists and converting into a numpy array and doing the same technique twice to take 2 arrays and add and mutiply them\n",
        "#checking the sizes of array, whether or not they satisfy thr condition for matrix addition and multiplication\n",
        "  ele_list=[[],[],[]]\n",
        "  columns= int(input(\"How many columns: \"))\n",
        "  rows=int(input(\"How many rows: \"))\n",
        "  for x in range(rows):\n",
        "    for y in range(columns):\n",
        "      ele=int(input(\"Enter a value: \"))\n",
        "      ele_list[x].append(ele)\n",
        "  array_one=np.array(ele_list)\n",
        "  print()\n",
        "  print(\"Second Array\")\n",
        "  print()\n",
        "  ele_list_2=[[],[],[]]\n",
        "  columns_2= int(input(\"How many columns: \"))\n",
        "  rows_2=int(input(\"How many rows: \"))\n",
        "  for i in range(rows_2):\n",
        "    for j in range(columns_2):\n",
        "      ele_2=int(input(\"Enter a value: \"))\n",
        "      ele_list_2[i].append(ele_2)\n",
        "  array_two=np.array(ele_list_2)\n",
        "\n",
        "  print(\"The first array is \\n\", array_one)\n",
        "  print(\"The second array is \\n\", array_two)\n",
        "  print()\n",
        "  if columns!=columns_2 and rows!=rows_2:\n",
        "    print(\"Matrix addition is not possible\")\n",
        "  else:\n",
        "    print(\"The sum of both the arrays is \\n\", array_one+array_two)\n",
        "  print()\n",
        "  if columns!=rows_2:\n",
        "    print(\"Multiplication is not possible\")\n",
        "  else:\n",
        "    print(\"The product of both the arrays is \\n\", array_one*array_two)\n",
        "      "
      ],
      "metadata": {
        "colab": {
          "base_uri": "https://localhost:8080/"
        },
        "id": "X7k-S5aqxgdb",
        "outputId": "cd5e1ef2-749d-4978-bd94-b03d4904f1e2"
      },
      "execution_count": null,
      "outputs": [
        {
          "output_type": "stream",
          "name": "stdout",
          "text": [
            "How many columns: 3\n",
            "How many rows: 3\n",
            "Enter a value: 1\n",
            "Enter a value: 2\n",
            "Enter a value: 3\n",
            "Enter a value: 4\n",
            "Enter a value: 5\n",
            "Enter a value: 6\n",
            "Enter a value: 7\n",
            "Enter a value: 8\n",
            "Enter a value: 9\n",
            "\n",
            "Second Array\n",
            "\n",
            "How many columns: 3\n",
            "How many rows: 3\n",
            "Enter a value: 0\n",
            "Enter a value: 1\n",
            "Enter a value: 0\n",
            "Enter a value: 0\n",
            "Enter a value: 2\n",
            "Enter a value: 0\n",
            "Enter a value: 0\n",
            "Enter a value: 3\n",
            "Enter a value: 0\n",
            "The first array is \n",
            " [[1 2 3]\n",
            " [4 5 6]\n",
            " [7 8 9]]\n",
            "The second array is \n",
            " [[0 1 0]\n",
            " [0 2 0]\n",
            " [0 3 0]]\n",
            "\n",
            "The sum of both the arrays is \n",
            " [[ 1  3  3]\n",
            " [ 4  7  6]\n",
            " [ 7 11  9]]\n",
            "\n",
            "The product of both the arrays is \n",
            " [[ 0  2  0]\n",
            " [ 0 10  0]\n",
            " [ 0 24  0]]\n"
          ]
        }
      ]
    },
    {
      "cell_type": "markdown",
      "source": [
        "###Q-3"
      ],
      "metadata": {
        "id": "-SElmIEUI186"
      }
    },
    {
      "cell_type": "code",
      "source": [
        "'''\n",
        "The fastest algorithm is address this question is\n",
        "(1)find sum of all numbers from 1 to (N-1) using formula, integerSum= [N*(N-1)]/2;                   Time complexity=O(log(n))\n",
        "(2)calculate sum of all elements in Arry A[1...N] using a Loop or sum function ;                      Time complexity=O(log(n))\n",
        "(3)Find the difference diff = (arraySum - integerSum), which is the integer in A that is repeated;   Time complexity=O(N)\n",
        "(4)Print (diff) \n",
        "\n",
        "Time complexity = O(N)\n",
        "'''\n"
      ],
      "metadata": {
        "id": "uuLB7bVQI3z5"
      },
      "execution_count": null,
      "outputs": []
    },
    {
      "cell_type": "markdown",
      "source": [
        "###Q-4"
      ],
      "metadata": {
        "id": "c7YEFDC4KGKj"
      }
    },
    {
      "cell_type": "code",
      "source": [
        "'''\n",
        "nested looping through the list of lists and adding the numbers to a variable and printing it at the end\n",
        "'''\n",
        "list_of_lists = [[1, 2, 3], [4, 5], [6], [7, 8, 9, 10]]\n",
        "total = 0\n",
        "for x in list_of_lists:\n",
        "  for y in x:    \n",
        "    total+=y  \n",
        "print(total)   "
      ],
      "metadata": {
        "colab": {
          "base_uri": "https://localhost:8080/"
        },
        "id": "pEJ7CfcbKIww",
        "outputId": "7610e619-4bd0-4749-9775-417529a6257a"
      },
      "execution_count": null,
      "outputs": [
        {
          "output_type": "stream",
          "name": "stdout",
          "text": [
            "55\n"
          ]
        }
      ]
    },
    {
      "cell_type": "markdown",
      "source": [
        "###Q-5"
      ],
      "metadata": {
        "id": "PAVTX-6_Mmj4"
      }
    },
    {
      "cell_type": "code",
      "source": [
        "def powerSet(string, index, current):\n",
        "    if index == len(string):\n",
        "      print(current)\n",
        "      return\n",
        "    powerSet(string, index + 1, current + string[index])\n",
        "    powerSet(string, index + 1, current)\n",
        "\n",
        "elements= input(\"Enter a word or set of elements to find its powerset: \")\n",
        "powerSet(elements, 0, \"\")"
      ],
      "metadata": {
        "colab": {
          "base_uri": "https://localhost:8080/"
        },
        "id": "QRlmDjMOMoYK",
        "outputId": "85c9dd9c-2bbb-48ac-8e0e-5354e1c3ae40"
      },
      "execution_count": null,
      "outputs": [
        {
          "output_type": "stream",
          "name": "stdout",
          "text": [
            "Enter a word or set of elements to find its powerset: abc\n",
            "abc\n",
            "ab\n",
            "ac\n",
            "a\n",
            "bc\n",
            "b\n",
            "c\n",
            "\n"
          ]
        }
      ]
    },
    {
      "cell_type": "markdown",
      "source": [
        "##Q-6\n"
      ],
      "metadata": {
        "id": "BqdbIDTAZF-X"
      }
    },
    {
      "cell_type": "code",
      "source": [
        "'''\n",
        "Algorithm:\n",
        "\n",
        "Input : N (no. of disks)\n",
        "Output: Moving N disks from a to c\n",
        "\n",
        "TowerOfHonoi(N, a, b, c):\n",
        "  if N = 1: \n",
        "    Move only disk from a to c         \n",
        "  Otherwise\n",
        "    Move N-1 disks from a to b using c as temporary storage i.e, TowerOfHonoi(N-1, a, c, b)\n",
        "    Move Nth disk from a to c\n",
        "    Move N-1 disks from b to c using a as temporary storage t.e, TowerOfHonoi(N-1, b, a, c)\n",
        "\n",
        "Pseudo code:\n",
        "\n",
        "Function TowerOfHonoi(N, a, b, c):         \n",
        "  if N == 1:\n",
        "    move disk from a to c\n",
        "  ELSE:\n",
        "    TowerOfHonoi(N - 1, a, c, b)\n",
        "    move Nth disk from a to c            \n",
        "    TowerOfHonoi(N - 1, b, a, c)\n",
        "\n",
        "'''"
      ],
      "metadata": {
        "id": "zkuFc7lKZRha"
      },
      "execution_count": null,
      "outputs": []
    },
    {
      "cell_type": "markdown",
      "source": [
        "###Q-7"
      ],
      "metadata": {
        "id": "wMHZrvTgZk0f"
      }
    },
    {
      "cell_type": "code",
      "source": [
        "def reverse_string(string):\n",
        "  '''\n",
        "  Taking a string from the user and then using recursion and looping the string from back\n",
        "  '''\n",
        "  if string!=\"\":\n",
        "    reverse_string(string[1:])\n",
        "    print(string[0],end=\"\")\n",
        "\n",
        "sentence= input(\"Enter a sentence to reverse: \")\n",
        "reverse_string(sentence)"
      ],
      "metadata": {
        "colab": {
          "base_uri": "https://localhost:8080/"
        },
        "id": "5vR6J5JbZnrk",
        "outputId": "494b6605-41b7-4fcf-e259-efc04c9308fb"
      },
      "execution_count": null,
      "outputs": [
        {
          "output_type": "stream",
          "name": "stdout",
          "text": [
            "Enter a sentence to reverse: pots&pans\n",
            "snap&stop"
          ]
        }
      ]
    },
    {
      "cell_type": "markdown",
      "source": [
        "##Q-8"
      ],
      "metadata": {
        "id": "w7A8sdacaFMd"
      }
    },
    {
      "cell_type": "code",
      "source": [
        "'''\n",
        "Part 1\n",
        "\n",
        "The bottles are labelled from 1 to n.\n",
        "Let there be n cups. Label the cups from 1 to n.\n",
        "Pour the wine from bottle n to the cup . \n",
        "i.e Bottle 1 is poured in cup 1, Bottle 2 is poured in cup 2....... , Bottle n is poured in cup n.\n",
        "Map the taste testers to the respective cups.\n",
        "i.e Tester 1 tastes in cup 1, Tester 2 tastes in cup 2..............., Tester n tastes in cup n\n",
        "In one month one of the testers will be dead. \n",
        "Except that corresponding bottle to the tester, the rest are not poisioned\n",
        "\n",
        "Part 2\n",
        "The bottles are labelled from 1 to n in binary. Example is shown below:      \n",
        "Bottle 1\t0000\n",
        "Bottle 2\t0001\n",
        "Bottle 3\t0010\n",
        "Bottle 4\t0011\n",
        "Bottle 5\t0100\n",
        "Bottle 6\t0101\n",
        "Bottle 7\t0110\n",
        "Bottle 8\t0111\n",
        "Bottle 9\t1000\n",
        "Bottle 10\t1001\n",
        "Let there be log2n cups. Label the cups from 1 to log2n.\n",
        "Pour a drop of the wine from all the bottles whose kth bit in the code is 1 to the cup n. \n",
        "From each bottle whose first bit is 1, a drop  is poured to cup 1.\n",
        "From each bottle whose second bit is 1, a drop  is poured to cup 2.\n",
        "From each bottle whose third bit is 1, a drop  is poured to cup 3.\n",
        "From each bottle whose log2kth bit is 1, a drop  is poured to cup log2k.\n",
        "\n",
        "Map the taste testers to the respective cups.\n",
        "i.e Tester 1 tastes in cup 1, Tester 2 tastes in cup 2, tester 3 tastes in cup 3........\n",
        "In one month some  of the testers will be dead. \n",
        "The wine that was present in the cups of all the dead testers is the poisoned wine.\n",
        "'''"
      ],
      "metadata": {
        "id": "Ka_qYMF5aGiY"
      },
      "execution_count": null,
      "outputs": []
    },
    {
      "cell_type": "markdown",
      "source": [
        "###Q-9"
      ],
      "metadata": {
        "id": "8aOvVC2gamkE"
      }
    },
    {
      "cell_type": "code",
      "source": [
        "'''\n",
        "Let us consider an array A of n elements. We declare two variables max and min representing maximum and minimum elements. We have 2 cases.\n",
        "If n is odd, then we initialise min and max elements as A[0], else we initialise max and min as the maximum and minimum of A[0] and A[1] respectively.\n",
        "Starting with the next index in each case, we iterate through the arrays with increments of two. We basically check in pairs. If A[i] is greater than A[i+1], then A[i] is a candidate for maximum and A[i+1] is a candidate for minimum. Hence we check for these respectively. This takes 3 comparisons whatever be the case. \n",
        "Similar is the case when A[i] is less than A[i+1], here A[i] is a candidate for minimum and A[i+1] is a candidate for maximum.\n",
        "As each step takes 3 comparisons and we iterate through the array in increments of 2, the total number of comparisons is less than 3*(n/2).\n",
        "\n",
        "Infact, the exact number of comparisons are as follows:\n",
        "If n is odd: 3*(n-1)/2\n",
        "\n",
        "If n is even: (3n/2) -2\n",
        "'''"
      ],
      "metadata": {
        "id": "L8bivfiaaoE_"
      },
      "execution_count": null,
      "outputs": []
    },
    {
      "cell_type": "markdown",
      "source": [
        "##Q-10"
      ],
      "metadata": {
        "id": "kkiE-0GthkpW"
      }
    },
    {
      "cell_type": "code",
      "source": [
        "print(\"    /-/ `\\     \")\n",
        "print(\">\\   |@@    |-__ \")\n",
        "print(\"\\ _/      |        `\\ \")\n",
        "print(\" ___/_/         | h   \")\n",
        "print(\"       |        \\   | h  \")\n",
        "print(\"       | |___\\  |     \")\n",
        "print(\"       ||        ||    \")"
      ],
      "metadata": {
        "colab": {
          "base_uri": "https://localhost:8080/"
        },
        "id": "QuLw9hOkhl-A",
        "outputId": "8a6b9665-8499-4d73-bc2b-b712602edfbb"
      },
      "execution_count": 15,
      "outputs": [
        {
          "output_type": "stream",
          "name": "stdout",
          "text": [
            "    /-/ `\\     \n",
            ">\\   |@@    |-__ \n",
            "\\ _/      |        `\\ \n",
            " ___/_/         | h   \n",
            "       |        \\   | h  \n",
            "       | |___\\  |     \n",
            "       ||        ||    \n"
          ]
        }
      ]
    }
  ]
}