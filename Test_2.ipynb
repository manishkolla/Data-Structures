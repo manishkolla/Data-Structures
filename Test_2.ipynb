{
  "nbformat": 4,
  "nbformat_minor": 0,
  "metadata": {
    "colab": {
      "provenance": [],
      "authorship_tag": "ABX9TyPZKAU8IQOC6zAxjw8g+kit",
      "include_colab_link": true
    },
    "kernelspec": {
      "name": "python3",
      "display_name": "Python 3"
    },
    "language_info": {
      "name": "python"
    }
  },
  "cells": [
    {
      "cell_type": "markdown",
      "metadata": {
        "id": "view-in-github",
        "colab_type": "text"
      },
      "source": [
        "<a href=\"https://colab.research.google.com/github/manishkolla/Data-Structures/blob/main/Test_2.ipynb\" target=\"_parent\"><img src=\"https://colab.research.google.com/assets/colab-badge.svg\" alt=\"Open In Colab\"/></a>"
      ]
    },
    {
      "cell_type": "markdown",
      "source": [
        "#Test-2"
      ],
      "metadata": {
        "id": "UW-ChlOcWHph"
      }
    },
    {
      "cell_type": "markdown",
      "source": [
        "###Question-1\n"
      ],
      "metadata": {
        "id": "9aFz99lsNPK1"
      }
    },
    {
      "cell_type": "code",
      "execution_count": null,
      "metadata": {
        "colab": {
          "base_uri": "https://localhost:8080/"
        },
        "id": "5AJgUn32Kj1R",
        "outputId": "2e0e13aa-8651-4c1a-85bb-83fe8a5a0f46"
      },
      "outputs": [
        {
          "output_type": "stream",
          "name": "stdout",
          "text": [
            "[1, 2, 3, 4, 6]\n"
          ]
        }
      ],
      "source": [
        "def uniquenums(array):\n",
        "  unique_nums=[]\n",
        "  for x in array:\n",
        "    if x not in unique_nums:\n",
        "      unique_nums.append(x)\n",
        "  print(unique_nums)\n",
        "uniquenums([1, 2, 3, 4, 4, 6, 6, 6])\n",
        "#Time complexity- O(n)\n"
      ]
    },
    {
      "cell_type": "markdown",
      "source": [
        "###Question-2\n"
      ],
      "metadata": {
        "id": "JDDeHA7pNSFT"
      }
    },
    {
      "cell_type": "code",
      "source": [
        "def is_num(c):\n",
        "\treturn c.isdigit()\n",
        " \n",
        "def evaluate(list_operation):\n",
        "\tprefix = []\n",
        "\tfor x in operation[::-1]:\n",
        "\t\tif is_num(x):\n",
        "\t\t\tprefix.append(int(x))\n",
        "\t\telse:\n",
        "\t\t\ta = prefix.pop()\n",
        "\t\t\tb = prefix.pop()\n",
        "\n",
        "\t\t\tif x == '+':\n",
        "\t\t\t\tprefix.append(a + b)\n",
        "\n",
        "\t\t\telif x == '-':\n",
        "\t\t\t\tprefix.append(a - b)\n",
        "\n",
        "\t\t\telif x == '*':\n",
        "\t\t\t\tprefix.append(a * b)\n",
        "\n",
        "\t\t\telif x == '/':\n",
        "\t\t\t\tprefix.append(a / b)\n",
        "\n",
        "\treturn prefix.pop()\n",
        "\n",
        "val=[\"2\", \"3\", \"+\", \"4\", \"*\"]\n",
        "operation=\"\"\n",
        "for x in val[::-1]:\n",
        "  operation+=x\n",
        "\n",
        "evaluate(operation)\n"
      ],
      "metadata": {
        "colab": {
          "base_uri": "https://localhost:8080/"
        },
        "id": "-Na6DcxSNTy6",
        "outputId": "e3005d3d-9019-4871-c011-bc13b05ce9db"
      },
      "execution_count": null,
      "outputs": [
        {
          "output_type": "execute_result",
          "data": {
            "text/plain": [
              "20"
            ]
          },
          "metadata": {},
          "execution_count": 4
        }
      ]
    },
    {
      "cell_type": "markdown",
      "source": [
        "###Question-3"
      ],
      "metadata": {
        "id": "R73q7SscVy8V"
      }
    },
    {
      "cell_type": "code",
      "source": [
        "class Node:\n",
        "\tdef __init__(self, data):\n",
        "\t\tself.data = data\n",
        "\t\tself.next = None\n",
        "class LinkedList:\n",
        "\tdef __init__(self):\n",
        "\t\tself.head = None\n",
        "\tdef push(self, data):\n",
        "\t\tnew_node = Node(data)\n",
        "\t\tnew_node.next = self.head\n",
        "\t\tself.head = new_node\n",
        "\tdef deleteNode(self, n):\n",
        "\t\tfirst = self.head\n",
        "\t\tsecond = self.head\n",
        "\t\tfor i in range(n):\n",
        "\t\t\tif(second.next == None):\n",
        "\t\t\t\tif(i == n - 1):\n",
        "\t\t\t\t\tself.head = self.head.next\n",
        "\t\t\t\treturn self.head\n",
        "\t\t\tsecond = second.next\t\n",
        "\t\twhile(second.next != None):\n",
        "\t\t\tsecond = second.next\n",
        "\t\t\tfirst = first.next\n",
        "\t\tfirst.next = first.next.next\n",
        "\tdef print_list(self):\n",
        "\t\ttemp_head = self.head\n",
        "\t\twhile(temp_head != None):\n",
        "\t\t\tprint(temp_head.data, end = ' ')\n",
        "\t\t\ttemp_head = temp_head.next\n",
        "\t\t\n",
        "link_list = LinkedList()\n",
        "link_list.push(18)\n",
        "link_list.push(5)\n",
        "link_list.push(7)\n",
        "link_list.push(1)\n",
        "link_list.push(3)\n",
        "link_list.push(2)\n",
        "print(\"Created Linked list is:\")\n",
        "link_list.print_list()\n",
        "link_list.deleteNode(3)\n",
        "print(\"\\nLinked List after Deletion is:\")\n",
        "link_list.print_list()"
      ],
      "metadata": {
        "colab": {
          "base_uri": "https://localhost:8080/"
        },
        "id": "CAGyA0c_Wmdn",
        "outputId": "1d4bb6cd-6dce-4762-fc00-18e256ae514c"
      },
      "execution_count": null,
      "outputs": [
        {
          "output_type": "stream",
          "name": "stdout",
          "text": [
            "Created Linked list is:\n",
            "2 3 1 7 5 18 \n",
            "Linked List after Deletion is:\n",
            "2 3 1 5 18 "
          ]
        }
      ]
    },
    {
      "cell_type": "markdown",
      "source": [
        "###Question-4"
      ],
      "metadata": {
        "id": "WKoUfpuDaNw-"
      }
    },
    {
      "cell_type": "code",
      "source": [
        "class Node:\n",
        "\t\n",
        "\tdef __init__(self, x):\n",
        "\t\tself.data = x\n",
        "\t\tself.left = None\n",
        "\t\tself.right = None\n",
        "\t\tself.lCount = 0\n",
        "def insert(root, x):\n",
        "\t\n",
        "\tif (root == None):\n",
        "\t\treturn Node(x)\n",
        "\tif (x < root.data):\n",
        "\t\troot.left = insert(root.left, x)\n",
        "\t\troot.lCount += 1\n",
        "\telif (x > root.data):\n",
        "\t\troot.right = insert(root.right, x);\n",
        "\treturn root\n",
        "\n",
        "def thirdrdSmallest(root, k):\n",
        "\tif (root == None):\n",
        "\t\treturn None\n",
        "\tcount = root.lCount + 1\n",
        "\tif (count == k):\n",
        "\t\treturn root\n",
        "\tif (count > k):\n",
        "\t\treturn thirdrdSmallest(root.left, k)\n",
        "\treturn thirdrdSmallest(root.right, k - count)\n",
        " \n",
        "root = None\n",
        "numbers = [4,2,6,1,3,5,7]\n",
        "\n",
        "for x in numbers:\n",
        "\t\troot = insert(root, x)\n",
        "\n",
        "res = thirdrdSmallest(root, 3)\n",
        "print(\"3rd Smallest Element is: \", res.data)\n",
        "\t\n",
        "\n"
      ],
      "metadata": {
        "colab": {
          "base_uri": "https://localhost:8080/"
        },
        "id": "boW_7OXkzgTf",
        "outputId": "1d3e93ce-7e9c-4e96-9356-f7dd01f354a4"
      },
      "execution_count": null,
      "outputs": [
        {
          "output_type": "stream",
          "name": "stdout",
          "text": [
            "3rd Smallest Element is:  3\n"
          ]
        }
      ]
    },
    {
      "cell_type": "markdown",
      "source": [
        "###Question-5"
      ],
      "metadata": {
        "id": "-aK5RlfYBMH2"
      }
    },
    {
      "cell_type": "code",
      "source": [
        "def mergeSort(array):\n",
        "    if len(array) > 1:\n",
        "        r = len(array)//2\n",
        "        L = array[:r]\n",
        "        M = array[r:]\n",
        "        mergeSort(L)\n",
        "        mergeSort(M)\n",
        "        i = j = k = 0\n",
        "        while i < len(L) and j < len(M):\n",
        "            if L[i] < M[j]:\n",
        "                array[k] = L[i]\n",
        "                i += 1\n",
        "            else:\n",
        "                array[k] = M[j]\n",
        "                j += 1\n",
        "            k += 1\n",
        "        while i < len(L):\n",
        "            array[k] = L[i]\n",
        "            i += 1\n",
        "            k += 1\n",
        "        while j < len(M):\n",
        "            array[k] = M[j]\n",
        "            j += 1\n",
        "            k += 1\n",
        "def printList(array):\n",
        "    for i in range(len(array)):\n",
        "        print(array[i], end=\" \")\n",
        "array = [6, 5, 12, 10, 9, 1]\n",
        "mergeSort(array)\n",
        "print(\"Sorted array is: \")\n",
        "printList(array)"
      ],
      "metadata": {
        "colab": {
          "base_uri": "https://localhost:8080/"
        },
        "id": "MKUw4mFkCUVl",
        "outputId": "88e79402-0f60-4e5c-c849-d9a9304ee797"
      },
      "execution_count": 6,
      "outputs": [
        {
          "output_type": "stream",
          "name": "stdout",
          "text": [
            "Sorted array is: \n",
            "1 5 6 9 10 12 "
          ]
        }
      ]
    },
    {
      "cell_type": "markdown",
      "source": [
        "###Question-6"
      ],
      "metadata": {
        "id": "PQkTVSr8EBgy"
      }
    },
    {
      "cell_type": "code",
      "source": [
        "def binarysearch(num_list, num):\n",
        "  num_list.sort()\n",
        "  length=len(num_list)\n",
        "  m=num_list[length//2] #6\n",
        "  if num < m:\n",
        "    for x in num_list[0:length//2]:\n",
        "      if x==num:\n",
        "        print(num_list.index(x))\n",
        "  if num>m:\n",
        "    for x in num_list[length//2:length]:\n",
        "      if x==num:\n",
        "        print(num_list.index(x))\n",
        "  if num==m:\n",
        "    print(num_list.index(m))\n",
        "  if num not in num_list:\n",
        "    return False\n",
        "\n",
        "binarysearch([11, 21, 33, 40, 50], 21)\n"
      ],
      "metadata": {
        "colab": {
          "base_uri": "https://localhost:8080/"
        },
        "id": "R7I1h7wGEBQH",
        "outputId": "f3142e7f-73e1-4fd1-d2e2-bdd522f1c795"
      },
      "execution_count": 84,
      "outputs": [
        {
          "output_type": "stream",
          "name": "stdout",
          "text": [
            "1\n"
          ]
        }
      ]
    },
    {
      "cell_type": "markdown",
      "source": [
        "###Question-7"
      ],
      "metadata": {
        "id": "aAve2hfZWEwM"
      }
    },
    {
      "cell_type": "code",
      "source": [
        "class Node:\n",
        "\tdef __init__(self, key):\n",
        "\t\tself.left = None\n",
        "\t\tself.right = None\n",
        "\t\tself.val = key\n",
        "\n",
        "def insert(root, key):\n",
        "\tif root is None:\n",
        "\t\treturn Node(key)\n",
        "\telse:\n",
        "\t\tif root.val == key:\n",
        "\t\t\treturn root\n",
        "\t\telif root.val < key:\n",
        "\t\t\troot.right = insert(root.right, key)\n",
        "\t\telse:\n",
        "\t\t\troot.left = insert(root.left, key)\n",
        "\treturn root\n",
        "\n",
        "def inorder(root):\n",
        "\tif root:\n",
        "\t\tinorder(root.left)\n",
        "\t\tprint(root.val)\n",
        "\t\tinorder(root.right)\n",
        "\n",
        "r = Node(50)\n",
        "r = insert(r, 82)\n",
        "r = insert(r, 28)\n",
        "r = insert(r, 8)\n",
        "r = insert(r, 2)\n",
        "r = insert(r, 182)\n",
        "r = insert(r, 1824)\n",
        "r = insert(r, 824)\n",
        "r = insert(r, 183)\n",
        "r = insert(r, 1824)\n",
        "inorder(r)"
      ],
      "metadata": {
        "colab": {
          "base_uri": "https://localhost:8080/"
        },
        "id": "qlEdLuu_WGdR",
        "outputId": "61662de9-5717-4f2b-a9eb-455892490586"
      },
      "execution_count": 4,
      "outputs": [
        {
          "output_type": "stream",
          "name": "stdout",
          "text": [
            "2\n",
            "8\n",
            "28\n",
            "50\n",
            "82\n",
            "182\n",
            "183\n",
            "824\n",
            "1824\n"
          ]
        }
      ]
    }
  ]
}