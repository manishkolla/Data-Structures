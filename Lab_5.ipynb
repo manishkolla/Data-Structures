{
  "nbformat": 4,
  "nbformat_minor": 0,
  "metadata": {
    "colab": {
      "provenance": [],
      "collapsed_sections": [],
      "authorship_tag": "ABX9TyPHeKE/pXd3DNKLFFhjW6KN",
      "include_colab_link": true
    },
    "kernelspec": {
      "name": "python3",
      "display_name": "Python 3"
    },
    "language_info": {
      "name": "python"
    }
  },
  "cells": [
    {
      "cell_type": "markdown",
      "metadata": {
        "id": "view-in-github",
        "colab_type": "text"
      },
      "source": [
        "<a href=\"https://colab.research.google.com/github/manishkolla/Data-Structures/blob/main/Lab_5.ipynb\" target=\"_parent\"><img src=\"https://colab.research.google.com/assets/colab-badge.svg\" alt=\"Open In Colab\"/></a>"
      ]
    },
    {
      "cell_type": "code",
      "source": [
        "from collections import deque\n",
        "class Dequeue:\n",
        "\n",
        "    def __init__(self,Queue):\n",
        "        \"\"\"\n",
        "        Initializing Queue.\n",
        "        \"\"\"\n",
        "        self.queue = deque()\n",
        "\n",
        "    def isEmpty(self) -> bool:\n",
        "        return True if len(self.queue) == 0 else False\n",
        "        print(self.queue)\n",
        "\n",
        "    def first(self) -> int:\n",
        "        return self.queue[-1]\n",
        "\n",
        "    def last(self) -> int:\n",
        "        return self.queue[0]\n",
        "\n",
        "    def enqueue(self, x: int) -> None:\n",
        "        self.x = x\n",
        "        self.queue.append(x)     \n",
        "        print(self.queue)  \n",
        "\n",
        "    def dequeue(self) -> None:\n",
        "        self.queue.popleft()\n",
        "        print(self.queue)\n",
        "        \n",
        "a=Dequeue(())\n",
        "a.enqueue(5)\n",
        "a.enqueue(3)\n",
        "a.dequeue()\n",
        "a.enqueue(2)\n",
        "a.enqueue(8)\n",
        "a.dequeue()\n",
        "a.dequeue()\n",
        "a.enqueue(9)\n",
        "a.enqueue(1)\n",
        "a.dequeue()\n",
        "a.enqueue(7)\n",
        "a.enqueue(6)\n",
        "a.dequeue()\n",
        "a.dequeue()\n",
        "a.enqueue(4)\n",
        "a.dequeue()\n",
        "a.dequeue()"
      ],
      "metadata": {
        "colab": {
          "base_uri": "https://localhost:8080/"
        },
        "id": "MThx_QrhhgqT",
        "outputId": "860876d0-8e9c-4139-9dc5-260aff1cfc03"
      },
      "execution_count": 13,
      "outputs": [
        {
          "output_type": "stream",
          "name": "stdout",
          "text": [
            "deque([5])\n",
            "deque([5, 3])\n",
            "deque([3])\n",
            "deque([3, 2])\n",
            "deque([3, 2, 8])\n",
            "deque([2, 8])\n",
            "deque([8])\n",
            "deque([8, 9])\n",
            "deque([8, 9, 1])\n",
            "deque([9, 1])\n",
            "deque([9, 1, 7])\n",
            "deque([9, 1, 7, 6])\n",
            "deque([1, 7, 6])\n",
            "deque([7, 6])\n",
            "deque([7, 6, 4])\n",
            "deque([6, 4])\n",
            "deque([4])\n"
          ]
        }
      ]
    },
    {
      "cell_type": "code",
      "source": [
        "from collections import deque\n",
        "class Dequeue:\n",
        "\n",
        "    def __init__(self,Queue):\n",
        "        \"\"\"\n",
        "        Initializing Queue.\n",
        "        \"\"\"\n",
        "        self.queue = deque()\n",
        "\n",
        "    def isEmpty(self) -> bool:\n",
        "        return True if len(self.queue) == 0 else False\n",
        "        print(self.queue)\n",
        "\n",
        "    def addFirst(self,x:int):\n",
        "        self.x=x\n",
        "        self.queue.appendleft(x)\n",
        "        print(self.queue)\n",
        "\n",
        "    def addLast(self,x:int):\n",
        "        self.x=x\n",
        "        self.queue.append(x)\n",
        "        print(self.queue)\n",
        "\n",
        "    def first(self, x: int):\n",
        "        self.x = x\n",
        "        self.queue.append(x)\n",
        "        print(self.queue)      \n",
        "\n",
        "    def last(self,x:int):\n",
        "      self.x = x\n",
        "      self.queue.appendleft(x)\n",
        "      print(self.queue)\n",
        "\n",
        "    def removeFirst(self):\n",
        "      self.queue.pop()\n",
        "      print(self.queue)\n",
        "\n",
        "    def removeLast(self,):\n",
        "      self.queue.popleft()\n",
        "      print(self.queue)\n",
        "    def size(self):\n",
        "      print(len(self.queue))\n",
        "b=Dequeue(())\n",
        "b.addFirst(3)\n",
        "b.addLast(3)\n",
        "b.addLast(9)\n",
        "b.addFirst(1)\n",
        "#b.last() This command prompts an error because there is no paramenter passed,\n",
        "# initially we assigned this function with a parameter to add at the last\n",
        "b.isEmpty()\n",
        "b.addFirst(2)\n",
        "b.removeLast() \n",
        "b.addLast(7)\n",
        "# b.first()\n",
        "# b.last()\n",
        "#This command prompts an error because there is no paramenter passed,\n",
        "# initially we assigned this function with a parameter to add at the last\n",
        "b.addLast(4)\n",
        "b.size()\n",
        "b.removeFirst()\n",
        "b.removeFirst()\n"
      ],
      "metadata": {
        "colab": {
          "base_uri": "https://localhost:8080/"
        },
        "id": "bUMV8mkOjs02",
        "outputId": "f4af46df-4163-4677-a084-dbf3c5a3498d"
      },
      "execution_count": null,
      "outputs": [
        {
          "output_type": "stream",
          "name": "stdout",
          "text": [
            "deque([3])\n",
            "deque([3, 3])\n",
            "deque([3, 3, 9])\n",
            "deque([1, 3, 3, 9])\n",
            "deque([2, 1, 3, 3, 9])\n",
            "deque([1, 3, 3, 9])\n",
            "deque([1, 3, 3, 9, 7])\n",
            "deque([1, 3, 3, 9, 7, 4])\n",
            "6\n",
            "deque([1, 3, 3, 9, 7])\n",
            "deque([1, 3, 3, 9])\n"
          ]
        }
      ]
    },
    {
      "cell_type": "code",
      "source": [
        "from collections import deque\n",
        "class Dequeue:\n",
        "\n",
        "    def __init__(self,Queue):\n",
        "        \"\"\"\n",
        "        Initializing Queue.\n",
        "        \"\"\"\n",
        "        self.queue = deque()\n",
        "\n",
        "    def isEmpty(self) -> bool:\n",
        "        return True if len(self.queue) == 0 else False\n",
        "    def push(self, x:int):\n",
        "        self.x=x\n",
        "        self.queue.append(x)\n",
        "        print(self.queue)\n",
        "\n",
        "    def pop(self):\n",
        "        self.queue.pop()\n",
        "        print(self.queue)\n",
        "\n",
        "c=Dequeue(())\n",
        "c.push(5)\n",
        "c.push(3)\n",
        "c.pop()\n",
        "c.push(2)\n",
        "c.push(8)\n",
        "c.pop()\n",
        "c.pop()\n",
        "c.push(9)\n",
        "c.push(1)\n",
        "c.pop()\n",
        "c.push(7) \n",
        "c.push(6)\n",
        "c.pop()\n",
        "c.pop()\n",
        "c.push(4)\n",
        "c.pop()\n",
        "c.pop()\n"
      ],
      "metadata": {
        "colab": {
          "base_uri": "https://localhost:8080/"
        },
        "id": "K_Imj2bXODKm",
        "outputId": "0f3dabbc-ab6b-41d7-a6dc-b0b8e5e967d7"
      },
      "execution_count": null,
      "outputs": [
        {
          "output_type": "stream",
          "name": "stdout",
          "text": [
            "deque([5])\n",
            "deque([5, 3])\n",
            "deque([5])\n",
            "deque([5, 2])\n",
            "deque([5, 2, 8])\n",
            "deque([5, 2])\n",
            "deque([5])\n",
            "deque([5, 9])\n",
            "deque([5, 9, 1])\n",
            "deque([5, 9])\n",
            "deque([5, 9, 7])\n",
            "deque([5, 9, 7, 6])\n",
            "deque([5, 9, 7])\n",
            "deque([5, 9])\n",
            "deque([5, 9, 4])\n",
            "deque([5, 9])\n",
            "deque([5])\n"
          ]
        }
      ]
    }
  ]
}