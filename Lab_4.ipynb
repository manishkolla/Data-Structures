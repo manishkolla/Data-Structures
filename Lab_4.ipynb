{
  "nbformat": 4,
  "nbformat_minor": 0,
  "metadata": {
    "colab": {
      "provenance": [],
      "collapsed_sections": [],
      "authorship_tag": "ABX9TyMTQZ8vcbj1fGO3yPkANiqE",
      "include_colab_link": true
    },
    "kernelspec": {
      "name": "python3",
      "display_name": "Python 3"
    },
    "language_info": {
      "name": "python"
    }
  },
  "cells": [
    {
      "cell_type": "markdown",
      "metadata": {
        "id": "view-in-github",
        "colab_type": "text"
      },
      "source": [
        "<a href=\"https://colab.research.google.com/github/manishkolla/Data-Structures/blob/main/Lab_4.ipynb\" target=\"_parent\"><img src=\"https://colab.research.google.com/assets/colab-badge.svg\" alt=\"Open In Colab\"/></a>"
      ]
    },
    {
      "cell_type": "code",
      "execution_count": null,
      "metadata": {
        "id": "m9Sr8wu-h16r"
      },
      "outputs": [],
      "source": [
        "'''\n",
        "MyLinkedList class keeps track of three things:\n",
        "int size\n",
        "MyLinkedListNode first\n",
        "MyLinkedListNode last\n",
        "MyLinkedListNode has:\n",
        "String val,\n",
        "MyLinkedListNode next,\n",
        "MyLinkedListNode prev.\n",
        "'''\n",
        "\n",
        "class MyLinkedList():\n",
        "    class MyLinkedListNode():\n",
        "        def __init__(self,val:str) -> None:\n",
        "            self.val = val\n",
        "            self.next = None\n",
        "            self.prev = None\n",
        "    def __init__(self) -> None:\n",
        "        self.size = 0\n",
        "        self.first = None\n",
        "        self.last = None\n",
        "def add(index:int, val:str):\n",
        "  class addNode():\n",
        "    def __init__(self, val: str):\n",
        "      self.val=val\n",
        "      self.l_list=l_list\n",
        "      l_list=[\"Wiki\", \"Google\", \"Youtube\"]\n",
        "      print(len(l_list))\n",
        "      if index<= len(l_list):\n",
        "        l_list.insert(index,val)\n",
        "        print(l_list)\n",
        "add(0,\"Facebook\")"
      ]
    },
    {
      "cell_type": "markdown",
      "source": [
        "###Question-1"
      ],
      "metadata": {
        "id": "YFKq9VBSTsLv"
      }
    },
    {
      "cell_type": "code",
      "source": [
        "class add():\n",
        "    def __init__(self,index:int,val:str):\n",
        "      l_list=[\"Wiki\", \"Google\", \"Youtube\"]\n",
        "      if index<=len(l_list):\n",
        "        l_list.insert((index-1), val)\n",
        "        print(l_list)\n",
        "      else:  \n",
        "        l_list.append(val)\n",
        "        print(l_list)\n",
        "      \n",
        "\n",
        "x=add(5 , \"Facebook\")"
      ],
      "metadata": {
        "id": "ipGqi3YWnJDE",
        "colab": {
          "base_uri": "https://localhost:8080/"
        },
        "outputId": "9bd17713-92ac-41fe-d917-957233167809"
      },
      "execution_count": null,
      "outputs": [
        {
          "output_type": "stream",
          "name": "stdout",
          "text": [
            "['Wiki', 'Google', 'Youtube', 'Facebook']\n"
          ]
        }
      ]
    },
    {
      "cell_type": "markdown",
      "source": [
        "###Question-2"
      ],
      "metadata": {
        "id": "s8xHvE7VTuKq"
      }
    },
    {
      "cell_type": "code",
      "source": [
        "def addCom():\n",
        "    l_list=[\"Wiki\", \"Google\", \"Youtube\"]\n",
        "    new_list=[]\n",
        "    for x in l_list:\n",
        "      new_list.append((x+\".com\"))\n",
        "    print(new_list)\n",
        "\n",
        "x=addCom()"
      ],
      "metadata": {
        "colab": {
          "base_uri": "https://localhost:8080/"
        },
        "id": "pZUX_xZux7Z0",
        "outputId": "d6242fd4-3275-4024-f40d-05b959f5fd46"
      },
      "execution_count": null,
      "outputs": [
        {
          "output_type": "stream",
          "name": "stdout",
          "text": [
            "['Wiki.com', 'Google.com', 'Youtube.com']\n"
          ]
        }
      ]
    }
  ]
}