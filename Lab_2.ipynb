{
  "nbformat": 4,
  "nbformat_minor": 0,
  "metadata": {
    "colab": {
      "provenance": [],
      "collapsed_sections": [],
      "authorship_tag": "ABX9TyNDxPHh6S/ch2wtTr5YKWaV",
      "include_colab_link": true
    },
    "kernelspec": {
      "name": "python3",
      "display_name": "Python 3"
    },
    "language_info": {
      "name": "python"
    }
  },
  "cells": [
    {
      "cell_type": "markdown",
      "metadata": {
        "id": "view-in-github",
        "colab_type": "text"
      },
      "source": [
        "<a href=\"https://colab.research.google.com/github/manishkolla/Data-Structures/blob/main/Lab_2.ipynb\" target=\"_parent\"><img src=\"https://colab.research.google.com/assets/colab-badge.svg\" alt=\"Open In Colab\"/></a>"
      ]
    },
    {
      "cell_type": "markdown",
      "source": [
        "#Square root of a number"
      ],
      "metadata": {
        "id": "WP537OZPYS2g"
      }
    },
    {
      "cell_type": "code",
      "execution_count": 10,
      "metadata": {
        "colab": {
          "base_uri": "https://localhost:8080/"
        },
        "id": "lKYVzz1PYQYo",
        "outputId": "367788ac-2d4a-474f-a366-dd97c7b5423a"
      },
      "outputs": [
        {
          "output_type": "stream",
          "name": "stdout",
          "text": [
            "2.23607\n",
            "Do you further want to find the square root of the above number ?(yes/no) :yes\n",
            "1.49535\n",
            "Do you further want to find the square root of the above number ?(yes/no) :yes\n",
            "1.22284\n",
            "Do you further want to find the square root of the above number ?(yes/no) :yes\n",
            "1.10582\n",
            "Do you further want to find the square root of the above number ?(yes/no) :yes\n",
            "1.05158\n",
            "Do you further want to find the square root of the above number ?(yes/no) :yes\n",
            "1.02547\n",
            "Do you further want to find the square root of the above number ?(yes/no) :no\n",
            "\n"
          ]
        }
      ],
      "source": [
        "def squareRootFinder(num:int)->str:\n",
        "  sol=  (num)**0.5\n",
        "  print(str(\"%.5f\" % sol))\n",
        "  prompt= input(\"Do you further want to find the square root of the above number ?(yes/no) :\")\n",
        "  prompt.lower()\n",
        "  if prompt==\"yes\":\n",
        "    squareRootFinder(sol)\n",
        "  else:\n",
        "    print()\n",
        "\n",
        "squareRootFinder(5)"
      ]
    },
    {
      "cell_type": "markdown",
      "source": [
        "#Nth root finder"
      ],
      "metadata": {
        "id": "u9R991gLUkdk"
      }
    },
    {
      "cell_type": "code",
      "source": [
        "def nthRootFinder(number:int,n:int)->str:\n",
        "  # ,iterations:int\n",
        "  sol=(number)**(1/n)\n",
        "  v=\"%.2f\" % sol\n",
        "  print(v)\n",
        "  prompt= input(\"Do you further want to find the square root of the above number ?(yes/no) :\")\n",
        "  prompt.lower()\n",
        "  if prompt==\"yes\":\n",
        "    nthRootFinder(sol, n)\n",
        "  else:\n",
        "    print()\n",
        "\n",
        "nthRootFinder(64,3)"
      ],
      "metadata": {
        "colab": {
          "base_uri": "https://localhost:8080/"
        },
        "id": "nsiHEV4nUnLR",
        "outputId": "849eaf68-0658-4ba2-b016-50eff751be1c"
      },
      "execution_count": 16,
      "outputs": [
        {
          "output_type": "stream",
          "name": "stdout",
          "text": [
            "4.00\n",
            "Do you further want to find the square root of the above number ?(yes/no) :yes\n",
            "1.59\n",
            "Do you further want to find the square root of the above number ?(yes/no) :yes\n",
            "1.17\n",
            "Do you further want to find the square root of the above number ?(yes/no) :yes\n",
            "1.05\n",
            "Do you further want to find the square root of the above number ?(yes/no) :no\n",
            "\n"
          ]
        }
      ]
    }
  ]
}