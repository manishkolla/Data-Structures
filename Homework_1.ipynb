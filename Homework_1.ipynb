{
  "nbformat": 4,
  "nbformat_minor": 0,
  "metadata": {
    "colab": {
      "provenance": [],
      "authorship_tag": "ABX9TyPq5PWf/nLZfHRem+Oe4kGH",
      "include_colab_link": true
    },
    "kernelspec": {
      "name": "python3",
      "display_name": "Python 3"
    },
    "language_info": {
      "name": "python"
    }
  },
  "cells": [
    {
      "cell_type": "markdown",
      "metadata": {
        "id": "view-in-github",
        "colab_type": "text"
      },
      "source": [
        "<a href=\"https://colab.research.google.com/github/manishkolla/Data-Structures/blob/main/Homework_1.ipynb\" target=\"_parent\"><img src=\"https://colab.research.google.com/assets/colab-badge.svg\" alt=\"Open In Colab\"/></a>"
      ]
    },
    {
      "cell_type": "markdown",
      "source": [
        "##Part-1"
      ],
      "metadata": {
        "id": "GO4NXAnUHsnz"
      }
    },
    {
      "cell_type": "code",
      "execution_count": 3,
      "metadata": {
        "colab": {
          "base_uri": "https://localhost:8080/"
        },
        "id": "Txat3gurHICx",
        "outputId": "fcc0da02-7e9a-4ca9-fd45-f6cfdcfedceb"
      },
      "outputs": [
        {
          "output_type": "stream",
          "name": "stdout",
          "text": [
            "5.00\n",
            "-3.00\n",
            "3.17\n"
          ]
        }
      ],
      "source": [
        "import math\n",
        "def log(number:int):\n",
        "  print(\"%.2f\" % math.log(number,2))\n",
        "log(32)\n",
        "log(1/8)\n",
        "log(9)"
      ]
    },
    {
      "cell_type": "markdown",
      "source": [
        "##Part-2"
      ],
      "metadata": {
        "id": "J7Fz5EiNHyK7"
      }
    },
    {
      "cell_type": "code",
      "source": [
        "#method 1\n",
        "def f_s_largest_alg(num_list:list):\n",
        "  first=0\n",
        "  second=0\n",
        "  for x in num_list:\n",
        "    if x>first:\n",
        "      second=first\n",
        "      first=x\n",
        "    elif second is None or second< x:\n",
        "      second=x\n",
        "  print(first)\n",
        "  print(second)\n",
        "\n",
        "     \n",
        "#method 2\n",
        "def f_s_largest(num_list):\n",
        "  num_list.sort()\n",
        "  print(\"The first largest number is: \", num_list[-1])\n",
        "  print(\"The second largest number is: \", num_list[-2])\n",
        "\n",
        "f_s_largest_alg([1,42,2,4,23,4,23,90,0,3])\n",
        "f_s_largest([1,42,2,4,23,4,23,90,0,3])\n"
      ],
      "metadata": {
        "colab": {
          "base_uri": "https://localhost:8080/"
        },
        "id": "4zSgvtO9HzhX",
        "outputId": "09319d92-e55e-41e3-9d8a-36b6a3503a3f"
      },
      "execution_count": 2,
      "outputs": [
        {
          "output_type": "stream",
          "name": "stdout",
          "text": [
            "90\n",
            "42\n",
            "The first largest number is:  90\n",
            "The second largest number is:  42\n"
          ]
        }
      ]
    }
  ]
}