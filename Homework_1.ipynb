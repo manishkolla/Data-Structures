{
  "nbformat": 4,
  "nbformat_minor": 0,
  "metadata": {
    "colab": {
      "provenance": [],
      "collapsed_sections": [],
      "authorship_tag": "ABX9TyPo5Nuq0XluVz6VQGV2m8gm",
      "include_colab_link": true
    },
    "kernelspec": {
      "name": "python3",
      "display_name": "Python 3"
    },
    "language_info": {
      "name": "python"
    }
  },
  "cells": [
    {
      "cell_type": "markdown",
      "metadata": {
        "id": "view-in-github",
        "colab_type": "text"
      },
      "source": [
        "<a href=\"https://colab.research.google.com/github/manishkolla/Data-Structures/blob/main/Homework_1.ipynb\" target=\"_parent\"><img src=\"https://colab.research.google.com/assets/colab-badge.svg\" alt=\"Open In Colab\"/></a>"
      ]
    },
    {
      "cell_type": "markdown",
      "source": [
        "##Part-1"
      ],
      "metadata": {
        "id": "GO4NXAnUHsnz"
      }
    },
    {
      "cell_type": "code",
      "execution_count": null,
      "metadata": {
        "colab": {
          "base_uri": "https://localhost:8080/"
        },
        "id": "Txat3gurHICx",
        "outputId": "fcc0da02-7e9a-4ca9-fd45-f6cfdcfedceb"
      },
      "outputs": [
        {
          "output_type": "stream",
          "name": "stdout",
          "text": [
            "5.00\n",
            "-3.00\n",
            "3.17\n"
          ]
        }
      ],
      "source": [
        "import math\n",
        "def log(number:int):\n",
        "  print(\"%.2f\" % math.log(number,2))\n",
        "log(32)\n",
        "log(1/8)\n",
        "log(9)"
      ]
    },
    {
      "cell_type": "markdown",
      "source": [
        "##Part-2"
      ],
      "metadata": {
        "id": "J7Fz5EiNHyK7"
      }
    },
    {
      "cell_type": "code",
      "source": [
        "#method 1\n",
        "#without using sort function\n",
        "def f_s_t_largest(num_list):\n",
        "    ans = []\n",
        "    for i in range(3):\n",
        "        first = 0 \n",
        "        for j in range(len(num_list)):    \n",
        "            if num_list[j] > first:\n",
        "                first = num_list[j]    \n",
        "        num_list.remove(first)\n",
        "        ans.append(first)\n",
        "    for x in ans:\n",
        "        print(x)\n",
        "\n",
        "f_s_t_largest([1,42,2,4,23,4,23,90,0,3])\n",
        "\n",
        "\n",
        "#method 2\n",
        "#Using sort function directly \n",
        "def f_s_largest(num_list):\n",
        "  num_list.sort()\n",
        "  print(\"The first largest number is: \", num_list[-1])\n",
        "  print(\"The second largest number is: \", num_list[-2])\n",
        "  print(\"The third largest number is: \", num_list[-3])\n",
        "  \n",
        "f_s_largest([1,42,2,4,23,4,23,90,0,3])\n"
      ],
      "metadata": {
        "colab": {
          "base_uri": "https://localhost:8080/"
        },
        "id": "4zSgvtO9HzhX",
        "outputId": "1cbf171e-b559-4308-a23c-c9e1c101cc7d"
      },
      "execution_count": null,
      "outputs": [
        {
          "output_type": "stream",
          "name": "stdout",
          "text": [
            "90\n",
            "42\n",
            "23\n",
            "The first largest number is:  90\n",
            "The second largest number is:  42\n",
            "The third largest number is:  23\n"
          ]
        }
      ]
    }
  ]
}