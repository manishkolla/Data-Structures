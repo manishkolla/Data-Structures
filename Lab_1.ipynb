{
  "nbformat": 4,
  "nbformat_minor": 0,
  "metadata": {
    "colab": {
      "provenance": [],
      "collapsed_sections": [],
      "authorship_tag": "ABX9TyMyfE313x2mbRO5wrZiSAv/",
      "include_colab_link": true
    },
    "kernelspec": {
      "name": "python3",
      "display_name": "Python 3"
    },
    "language_info": {
      "name": "python"
    }
  },
  "cells": [
    {
      "cell_type": "markdown",
      "metadata": {
        "id": "view-in-github",
        "colab_type": "text"
      },
      "source": [
        "<a href=\"https://colab.research.google.com/github/manishkolla/Data-Structures/blob/main/Lab_1.ipynb\" target=\"_parent\"><img src=\"https://colab.research.google.com/assets/colab-badge.svg\" alt=\"Open In Colab\"/></a>"
      ]
    },
    {
      "cell_type": "markdown",
      "source": [
        "#Leap Year"
      ],
      "metadata": {
        "id": "YR3U51a2eKWh"
      }
    },
    {
      "cell_type": "code",
      "execution_count": null,
      "metadata": {
        "colab": {
          "base_uri": "https://localhost:8080/"
        },
        "id": "n5dt_03rXkkD",
        "outputId": "6f6ede6f-90f7-4b76-84c7-bd17ac51ce31"
      },
      "outputs": [
        {
          "output_type": "stream",
          "name": "stdout",
          "text": [
            "False\n",
            "True\n"
          ]
        }
      ],
      "source": [
        "def leapyear(year:int):\n",
        "  if year>1000:\n",
        "    if year%4==0:\n",
        "      return True\n",
        "    else:\n",
        "      return False\n",
        "  print(\"Enter a proper year\")\n",
        "print(leapyear(1997))\n",
        "print(leapyear(2020))"
      ]
    },
    {
      "cell_type": "markdown",
      "source": [
        "#Fibonacci series using recursion"
      ],
      "metadata": {
        "id": "ghBIGQOXf9xg"
      }
    },
    {
      "cell_type": "code",
      "source": [
        "import time\n",
        "def recursiveFibonacci(n):\n",
        "  '''\n",
        "  This method takes a number as input and retunrs the fibonacci sequence end output\n",
        "  It calculates the value by recursive method by subtracing 1 and 2 from the gien number and adding both of them\n",
        "  like F(n)=F(n-1)+F(n-2) with predefined n values for 1 and 2\n",
        "  For me this method is easily understanble when compared to the looping algotithm\n",
        "  '''\n",
        "  if n<0:\n",
        "    print(\"Enter a number greater than 0\")\n",
        "  elif n == 1:\n",
        "      return 0\n",
        "  elif n==2:\n",
        "    return 1\n",
        "  else:\n",
        "    return recursiveFibonacci(n-1) + recursiveFibonacci(n-2)\n",
        "t1=time.time()\n",
        "print(recursiveFibonacci(5))\n",
        "t2=time.time()\n",
        "T1=print(\"Time taken is: \",t2-t1)\n",
        "print(recursiveFibonacci(9))"
      ],
      "metadata": {
        "colab": {
          "base_uri": "https://localhost:8080/"
        },
        "id": "uQ33VBPlf_t4",
        "outputId": "aa3a0886-8c5f-4a4e-b08e-7103a99700d0"
      },
      "execution_count": 21,
      "outputs": [
        {
          "output_type": "stream",
          "name": "stdout",
          "text": [
            "3\n",
            "Time taken is:  0.0007565021514892578\n",
            "21\n"
          ]
        }
      ]
    },
    {
      "cell_type": "markdown",
      "source": [
        "#Fibonacci series using a loop"
      ],
      "metadata": {
        "id": "ftvSYrA-iOXQ"
      }
    },
    {
      "cell_type": "code",
      "source": [
        "import time\n",
        "def iterativeFibonacci(n):\n",
        "  '''\n",
        " I personally understood the concept from the recursive algorithm when compared to the for loop one because the previous one has the direct formula\n",
        " for the fibonacci sequence which is easy for the person whenever they look at the code, but whereas the for loop one takes time to understand and \n",
        " to get the exact concept of fibonacci sequence\n",
        "\n",
        "  '''\n",
        "  if n < 2:\n",
        "      return n\n",
        "  x = 0\n",
        "  y = 1\n",
        "  for i in range(2, n+1):\n",
        "      num = x + y\n",
        "      x = y\n",
        "      y = num\n",
        "  return num\n",
        "\n",
        "t3=time.time()\n",
        "print(iterativeFibonacci(5))\n",
        "t4=time.time()\n",
        "T2=print(\"Time taken is: \", t4-t3)\n",
        "\n",
        "print(iterativeFibonacci(9))\n",
        "\n"
      ],
      "metadata": {
        "colab": {
          "base_uri": "https://localhost:8080/"
        },
        "id": "2Oh9vO0MhOqm",
        "outputId": "2627fb10-27a8-42ce-d6b3-fa2991005859"
      },
      "execution_count": 25,
      "outputs": [
        {
          "output_type": "stream",
          "name": "stdout",
          "text": [
            "5\n",
            "Time taken is:  0.0017571449279785156\n",
            "34\n"
          ]
        }
      ]
    }
  ]
}